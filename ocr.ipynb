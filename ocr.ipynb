{
 "cells": [
  {
   "cell_type": "markdown",
   "id": "f96bde1b",
   "metadata": {},
   "source": [
    "# AI-Assisted OCR and Neural Networks for Data Conversion"
   ]
  },
  {
   "cell_type": "markdown",
   "id": "2873a352",
   "metadata": {},
   "source": [
    "## Description"
   ]
  },
  {
   "cell_type": "markdown",
   "id": "1498abb9",
   "metadata": {},
   "source": [
    "Developed an AI-assisted OCR system utilizing neural networks to convert unstructured data in images into structured data. Applied business rules to sort and select data for generating business reports."
   ]
  },
  {
   "cell_type": "markdown",
   "id": "6e431a9d",
   "metadata": {},
   "source": [
    "## Tools"
   ]
  },
  {
   "cell_type": "markdown",
   "id": "f489ab9a",
   "metadata": {},
   "source": [
    "TensorFlow, Keras, OpenCV, Python"
   ]
  },
  {
   "cell_type": "markdown",
   "id": "f366c67f",
   "metadata": {},
   "source": [
    "## Skills"
   ]
  },
  {
   "cell_type": "markdown",
   "id": "bb908666",
   "metadata": {},
   "source": [
    "OCR, Neural Networks, Data Structuring, Data Sorting, Business Reporting"
   ]
  },
  {
   "cell_type": "code",
   "execution_count": null,
   "id": "68b7ebe9",
   "metadata": {},
   "outputs": [],
   "source": [
    "# Sample Code for OCR using TensorFlow and OpenCV\n",
    "import cv2\n",
    "import pytesseract\n",
    "import tensorflow as tf\n",
    "from tensorflow.keras.models import Sequential\n",
    "from tensorflow.keras.layers import Dense, Conv2D, Flatten\n",
    "\n",
    "# Load and preprocess image\n",
    "image_path = 'path_to_image.jpg'\n",
    "image = cv2.imread(image_path, cv2.IMREAD_GRAYSCALE)\n",
    "image = cv2.resize(image, (128, 128))\n",
    "\n",
    "# Apply OCR\n",
    "text = pytesseract.image_to_string(image)\n",
    "print(\"Extracted Text:\", text)\n",
    "\n",
    "# Define a simple neural network model\n",
    "model = Sequential([\n",
    "    Conv2D(32, (3, 3), activation='relu', input_shape=(128, 128, 1)),\n",
    "    Flatten(),\n",
    "    Dense(128, activation='relu'),\n",
    "    Dense(10, activation='softmax')\n",
    "])\n",
    "\n",
    "# Print model summary\n",
    "model.summary()"
   ]
  }
 ],
 "metadata": {
  "kernelspec": {
   "display_name": "Python 3 (ipykernel)",
   "language": "python",
   "name": "python3"
  },
  "language_info": {
   "codemirror_mode": {
    "name": "ipython",
    "version": 3
   },
   "file_extension": ".py",
   "mimetype": "text/x-python",
   "name": "python",
   "nbconvert_exporter": "python",
   "pygments_lexer": "ipython3",
   "version": "3.12.2"
  }
 },
 "nbformat": 4,
 "nbformat_minor": 5
}
